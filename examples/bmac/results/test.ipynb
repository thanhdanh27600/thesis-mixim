{
 "cells": [
  {
   "cell_type": "code",
   "execution_count": 87,
   "metadata": {},
   "outputs": [],
   "source": [
    "import matplotlib.pyplot as plt\n",
    "import pandas as pd\n",
    "import numpy as np"
   ]
  },
  {
   "cell_type": "code",
   "execution_count": 88,
   "metadata": {},
   "outputs": [
    {
     "name": "stdout",
     "output_type": "stream",
     "text": [
      "2647\n",
      "5274\n",
      "5274\n"
     ]
    }
   ],
   "source": [
    "end_area = 0\n",
    "end_error = 0\n",
    "current_line = 0\n",
    "with open(\"General-0.vec\", \"r\") as ins:\n",
    "    file = []\n",
    "    for line in ins:\n",
    "        current_line += 1\n",
    "        file.append(line)\n",
    "        split_line = line.rstrip().split('\t')\n",
    "        if split_line[0] == '16':\n",
    "            end_area = current_line\n",
    "        if split_line[0] == '17':\n",
    "            end_error = current_line\n",
    "print(end_area)\n",
    "print(end_error)\n",
    "print(len(file))"
   ]
  },
  {
   "cell_type": "code",
   "execution_count": 89,
   "metadata": {},
   "outputs": [],
   "source": [
    "AREA_10 = {\"start\": 21, \"end\": end_area}\n",
    "ERROR_10= {\"start\": end_area + 1, \"end\": end_error}\n",
    "RECORDS_10 = [AREA_10, ERROR_10]\n",
    "\n",
    "AREA_30 = {\"start\": 21, \"end\": end_area}\n",
    "ERROR_30 = {\"start\": end_area + 1, \"end\": end_error -1 }\n",
    "RECORDS_30 = [AREA_30, ERROR_30]"
   ]
  },
  {
   "cell_type": "code",
   "execution_count": 90,
   "metadata": {},
   "outputs": [
    {
     "data": {
      "image/png": "[encoded data removed]",
      "text/plain": [
       "<Figure size 432x288 with 1 Axes>"
      ]
     },
     "metadata": {
      "needs_background": "light"
     },
     "output_type": "display_data"
    },
    {
     "name": "stdout",
     "output_type": "stream",
     "text": [
      "                 0\n",
      "count  2627.000000\n",
      "mean     36.765791\n",
      "std      37.002001\n",
      "min       0.328130\n",
      "25%       6.156347\n",
      "50%      19.469218\n",
      "75%      64.715152\n",
      "max     153.953633\n"
     ]
    },
    {
     "data": {
      "image/png": "[encoded data removed]",
      "text/plain": [
       "<Figure size 432x288 with 1 Axes>"
      ]
     },
     "metadata": {
      "needs_background": "light"
     },
     "output_type": "display_data"
    },
    {
     "name": "stdout",
     "output_type": "stream",
     "text": [
      "                 0\n",
      "count  2627.000000\n",
      "mean      0.552830\n",
      "std       4.069860\n",
      "min       0.000000\n",
      "25%       0.000000\n",
      "50%       0.000000\n",
      "75%       0.000000\n",
      "max      49.258889\n"
     ]
    }
   ],
   "source": [
    "for record in RECORDS_10:\n",
    "    data_histogram_x = []\n",
    "    data_histogram_y= []\n",
    "    for i in range(record['start']-1, record['end'],1):\n",
    "        split_line = file[i].rstrip().split('\t')\n",
    "        # print(split_line)\n",
    "        data_histogram_x.append(float(split_line[1]))\n",
    "        data_histogram_y.append(float(split_line[3]))\n",
    "    # plt.plot(data_histogram_x,data_histogram_y)\n",
    "    # plt.show()\n",
    "    plt.hist(data_histogram_y, bins=100)\n",
    "    plt.show()\n",
    "    data_histogram_y_pd = pd.DataFrame(data_histogram_y)\n",
    "    print(data_histogram_y_pd.round(6).describe())"
   ]
  }
 ],
 "metadata": {
  "interpreter": {
   "hash": "b3ba2566441a7c06988d0923437866b63cedc61552a5af99d1f4fb67d367b25f"
  },
  "kernelspec": {
   "display_name": "Python 3.9.7 ('base')",
   "language": "python",
   "name": "python3"
  },
  "language_info": {
   "codemirror_mode": {
    "name": "ipython",
    "version": 3
   },
   "file_extension": ".py",
   "mimetype": "text/x-python",
   "name": "python",
   "nbconvert_exporter": "python",
   "pygments_lexer": "ipython3",
   "version": "3.9.7"
  },
  "orig_nbformat": 4
 },
 "nbformat": 4,
 "nbformat_minor": 2
}
